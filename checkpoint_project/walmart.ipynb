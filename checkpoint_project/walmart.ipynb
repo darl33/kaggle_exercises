{
 "cells": [
  {
   "cell_type": "markdown",
   "metadata": {},
   "source": [
    "* Requisite imports + models"
   ]
  },
  {
   "cell_type": "code",
   "execution_count": 1,
   "metadata": {},
   "outputs": [],
   "source": [
    "# importing all \n",
    "import numpy as np \n",
    "import pandas as pd \n",
    "import seaborn as sns \n",
    "import matplotlib.pyplot as plt\n",
    "%matplotlib inline\n",
    "from sklearn.svm import SVR\n",
    "from xgboost import XGBRegressor\n",
    "from sklearn.linear_model import Ridge\n",
    "from sklearn.linear_model import ElasticNet\n",
    "from sklearn.linear_model import SGDRegressor\n",
    "from sklearn.linear_model import BayesianRidge\n",
    "from sklearn.linear_model import LinearRegression\n",
    "from sklearn.ensemble import RandomForestRegressor\n",
    "from sklearn.ensemble import GradientBoostingRegressor\n",
    "from sklearn.preprocessing import MinMaxScaler, OneHotEncoder\n",
    "from sklearn.model_selection import train_test_split\n",
    "from sklearn.metrics import mean_squared_error, mean_absolute_error, r2_score"
   ]
  },
  {
   "cell_type": "markdown",
   "metadata": {},
   "source": [
    "First, we format df and try to drop nulls/correct and scale the data"
   ]
  },
  {
   "cell_type": "code",
   "execution_count": 3,
   "metadata": {},
   "outputs": [
    {
     "data": {
      "text/html": [
       "<div>\n",
       "<style scoped>\n",
       "    .dataframe tbody tr th:only-of-type {\n",
       "        vertical-align: middle;\n",
       "    }\n",
       "\n",
       "    .dataframe tbody tr th {\n",
       "        vertical-align: top;\n",
       "    }\n",
       "\n",
       "    .dataframe thead th {\n",
       "        text-align: right;\n",
       "    }\n",
       "</style>\n",
       "<table border=\"1\" class=\"dataframe\">\n",
       "  <thead>\n",
       "    <tr style=\"text-align: right;\">\n",
       "      <th></th>\n",
       "      <th>Store</th>\n",
       "      <th>Date</th>\n",
       "      <th>Weekly_Sales</th>\n",
       "      <th>Holiday_Flag</th>\n",
       "      <th>Temperature</th>\n",
       "      <th>Fuel_Price</th>\n",
       "      <th>CPI</th>\n",
       "      <th>Unemployment</th>\n",
       "    </tr>\n",
       "  </thead>\n",
       "  <tbody>\n",
       "    <tr>\n",
       "      <th>0</th>\n",
       "      <td>1</td>\n",
       "      <td>05-02-2010</td>\n",
       "      <td>1643690.90</td>\n",
       "      <td>0</td>\n",
       "      <td>42.31</td>\n",
       "      <td>2.572</td>\n",
       "      <td>211.096358</td>\n",
       "      <td>8.106</td>\n",
       "    </tr>\n",
       "    <tr>\n",
       "      <th>1</th>\n",
       "      <td>1</td>\n",
       "      <td>12-02-2010</td>\n",
       "      <td>1641957.44</td>\n",
       "      <td>1</td>\n",
       "      <td>38.51</td>\n",
       "      <td>2.548</td>\n",
       "      <td>211.242170</td>\n",
       "      <td>8.106</td>\n",
       "    </tr>\n",
       "    <tr>\n",
       "      <th>2</th>\n",
       "      <td>1</td>\n",
       "      <td>19-02-2010</td>\n",
       "      <td>1611968.17</td>\n",
       "      <td>0</td>\n",
       "      <td>39.93</td>\n",
       "      <td>2.514</td>\n",
       "      <td>211.289143</td>\n",
       "      <td>8.106</td>\n",
       "    </tr>\n",
       "    <tr>\n",
       "      <th>3</th>\n",
       "      <td>1</td>\n",
       "      <td>26-02-2010</td>\n",
       "      <td>1409727.59</td>\n",
       "      <td>0</td>\n",
       "      <td>46.63</td>\n",
       "      <td>2.561</td>\n",
       "      <td>211.319643</td>\n",
       "      <td>8.106</td>\n",
       "    </tr>\n",
       "    <tr>\n",
       "      <th>4</th>\n",
       "      <td>1</td>\n",
       "      <td>05-03-2010</td>\n",
       "      <td>1554806.68</td>\n",
       "      <td>0</td>\n",
       "      <td>46.50</td>\n",
       "      <td>2.625</td>\n",
       "      <td>211.350143</td>\n",
       "      <td>8.106</td>\n",
       "    </tr>\n",
       "  </tbody>\n",
       "</table>\n",
       "</div>"
      ],
      "text/plain": [
       "   Store        Date  Weekly_Sales  Holiday_Flag  Temperature  Fuel_Price  \\\n",
       "0      1  05-02-2010    1643690.90             0        42.31       2.572   \n",
       "1      1  12-02-2010    1641957.44             1        38.51       2.548   \n",
       "2      1  19-02-2010    1611968.17             0        39.93       2.514   \n",
       "3      1  26-02-2010    1409727.59             0        46.63       2.561   \n",
       "4      1  05-03-2010    1554806.68             0        46.50       2.625   \n",
       "\n",
       "          CPI  Unemployment  \n",
       "0  211.096358         8.106  \n",
       "1  211.242170         8.106  \n",
       "2  211.289143         8.106  \n",
       "3  211.319643         8.106  \n",
       "4  211.350143         8.106  "
      ]
     },
     "execution_count": 3,
     "metadata": {},
     "output_type": "execute_result"
    }
   ],
   "source": [
    "#load data\n",
    "df = pd.read_csv('dataalt.csv')\n",
    "df.head()"
   ]
  },
  {
   "cell_type": "code",
   "execution_count": 5,
   "metadata": {},
   "outputs": [
    {
     "data": {
      "image/png": "[encoded data removed]",
      "text/plain": [
       "<Figure size 640x480 with 1 Axes>"
      ]
     },
     "metadata": {},
     "output_type": "display_data"
    }
   ],
   "source": [
    "#checking the target variables for distribution\n",
    "sns.histplot(df['Weekly_Sales'], kde=True)\n",
    "plt.axvline(x=df['Weekly_Sales'].mean(), linestyle='--', linewidth=2, color='red')\n",
    "plt.title('money')  \n",
    "plt.xlabel('sales')\n",
    "plt.ylabel('Frequency')\n",
    "plt.show()"
   ]
  },
  {
   "cell_type": "markdown",
   "metadata": {},
   "source": [
    "the plot shows that there's a definite left skew to the graph, accompanied by infrequent outliers which necessitate scaling"
   ]
  },
  {
   "cell_type": "code",
   "execution_count": 6,
   "metadata": {},
   "outputs": [
    {
     "name": "stdout",
     "output_type": "stream",
     "text": [
      "<class 'pandas.core.frame.DataFrame'>\n",
      "RangeIndex: 6435 entries, 0 to 6434\n",
      "Data columns (total 8 columns):\n",
      " #   Column        Non-Null Count  Dtype  \n",
      "---  ------        --------------  -----  \n",
      " 0   Store         6435 non-null   int64  \n",
      " 1   Date          6435 non-null   object \n",
      " 2   Weekly_Sales  6435 non-null   float64\n",
      " 3   Holiday_Flag  6435 non-null   int64  \n",
      " 4   Temperature   6435 non-null   float64\n",
      " 5   Fuel_Price    6435 non-null   float64\n",
      " 6   CPI           6435 non-null   float64\n",
      " 7   Unemployment  6435 non-null   float64\n",
      "dtypes: float64(5), int64(2), object(1)\n",
      "memory usage: 402.3+ KB\n"
     ]
    }
   ],
   "source": [
    "\n",
    "#describe df to get a better overview\n",
    "df.describe()\n",
    "df.info()\n"
   ]
  },
  {
   "cell_type": "code",
   "execution_count": 5,
   "metadata": {},
   "outputs": [],
   "source": [
    "# dealing with missing data and min-max scaling\n",
    "\n",
    "df['date'] = pd.to_datetime(df['date'])\n",
    "df['years_since_renovation'] = np.where(df['yr_renovated'] == 0, 0, df['date'].dt.year - df['yr_renovated'])\n",
    "df['house_age'] = df['date'].dt.year - df['yr_built']\n",
    "\n",
    "df['years_since_renovation'] = np.where(df['yr_renovated'] == 0, 0, df['date'].dt.year - df['yr_renovated'])\n",
    "df['date'] = (df['date'].astype('int64') / (24 * 3600)).round() * (24 * 3600)\n",
    "\n",
    "df[['zipstring', 'zipcode']] = df['statezip'].str.split(' ', expand=True)\n",
    "df.drop(columns= ['street','statezip', 'zipstring', 'country'], inplace= True)\n"
   ]
  },
  {
   "cell_type": "code",
   "execution_count": 6,
   "metadata": {},
   "outputs": [],
   "source": [
    "from sklearn.impute import SimpleImputer\n",
    "\n",
    "num_cols = [col for col in df.columns if df[col].dtype in ['float64','int64']]\n",
    "cat_cols = [col for col in df.columns if df[col].dtype not in ['float64','int64']]\n",
    "\n",
    "df[num_cols] = SimpleImputer().fit_transform(df[num_cols])\n",
    "df[num_cols] = MinMaxScaler().fit_transform(df[num_cols])\n",
    "encoder = OneHotEncoder(handle_unknown='ignore', sparse_output = False).fit(df[cat_cols])\n",
    "encoded_cols = list(encoder.get_feature_names_out(cat_cols))\n",
    "df_encoded = pd.DataFrame(\n",
    "    encoder.fit_transform(df[cat_cols]), \n",
    "    columns=encoder.get_feature_names_out(cat_cols), \n",
    "    index=df.index\n",
    ")\n",
    "\n",
    "df = pd.concat([df.drop(columns=cat_cols), df_encoded], axis=1)"
   ]
  },
  {
   "cell_type": "code",
   "execution_count": null,
   "metadata": {},
   "outputs": [],
   "source": [
    "\n",
    "#using .corr() to identify areas/data with highest corellation\n",
    "corr = df.corr()\n",
    "corr_filtered = corr.where(corr >= 0.3, np.nan)\n",
    "# Identify columns where all correlations are below 0.3\n",
    "cols_to_drop = [col for col in corr_filtered.columns if corr_filtered[col].isna().all()]\n",
    "df_cleaned = df.drop(columns=cols_to_drop)\n",
    "\n",
    "# Print the cleaned data\n",
    "print(df_cleaned)\n",
    "\n",
    "# Optionally, plot the heatmap again with the filtered correlations\n",
    "plt.figure(figsize=(30, 9))\n",
    "sns.heatmap(corr_filtered, annot=True)\n",
    "# Save the heatmap as a JPG file\n",
    "plt.savefig('heatmap.jpg', format='jpg')\n"
   ]
  },
  {
   "cell_type": "code",
   "execution_count": 8,
   "metadata": {},
   "outputs": [],
   "source": [
    "y = df_cleaned['price']\n",
    "X = df_cleaned.drop('price', axis=1)  # All columns except 'price'\n"
   ]
  },
  {
   "cell_type": "markdown",
   "metadata": {},
   "source": [
    "using OneHotEncoder for strings-> narrow down data\n",
    "\n",
    "see https://www.reddit.com/r/datascience/comments/145d04o/label_encoding_for_categorical_columns_xgboost/"
   ]
  },
  {
   "cell_type": "code",
   "execution_count": 9,
   "metadata": {},
   "outputs": [],
   "source": [
    "X_train,X_test,y_train,y_test = train_test_split(X,\n",
    "                                                 y,\n",
    "                                                 test_size=0.2,\n",
    "                                                 random_state=42)"
   ]
  },
  {
   "cell_type": "code",
   "execution_count": 10,
   "metadata": {},
   "outputs": [],
   "source": [
    "num_cols.remove('price')\n",
    "X_train[num_cols] = SimpleImputer().fit_transform(X_train[num_cols])\n",
    "X_train[num_cols] = MinMaxScaler().fit_transform(X_train[num_cols])\n",
    "X_test[num_cols] = SimpleImputer().fit_transform(X_test[num_cols])\n",
    "X_test[num_cols] = MinMaxScaler().fit_transform(X_test[num_cols])"
   ]
  },
  {
   "cell_type": "code",
   "execution_count": 11,
   "metadata": {},
   "outputs": [],
   "source": [
    "# copypasted optimizing\n",
    "import optuna\n",
    "\n",
    "\n",
    "'''\n",
    "\n",
    "def objective(trial, data = inputs_df[numeric_cols + encoded_cols],target = targets):\n",
    "    \n",
    "    #x, y = inputs_df[numeric_cols + encoded_cols], targets\n",
    "    X_train,X_test,y_train,y_test = train_test_split(\n",
    "    inputs_df[numeric_cols + encoded_cols], targets, test_size=0.25, random_state=42)\n",
    "    param = {\n",
    "        'tree_method':'gpu_hist',  # this parameter means using the GPU when training our model to speedup the training process\n",
    "        'lambda': trial.suggest_loguniform('lambda', 1e-3, 10.0),\n",
    "        'alpha': trial.suggest_loguniform('alpha', 1e-3, 10.0),\n",
    "        'colsample_bytree': trial.suggest_categorical('colsample_bytree', [0.3,0.4,0.5,0.6,0.7,0.8,0.9, 1.0]),\n",
    "        'subsample': trial.suggest_categorical('subsample', [0.4,0.5,0.6,0.7,0.8,1.0]),\n",
    "        'learning_rate': trial.suggest_categorical('learning_rate', [0.008,0.009,0.01,0.012,0.014,0.016,0.018, 0.02]),\n",
    "        'n_estimators': trial.suggest_categorical('n_estimators', [1000,2000,3000,4000]),\n",
    "        'max_depth': trial.suggest_categorical('max_depth', [5,7,9,11,13,15,17,20]),\n",
    "        'random_state': trial.suggest_categorical('random_state', [24, 48,2020]),\n",
    "        'min_child_weight': trial.suggest_int('min_child_weight', 1, 300),\n",
    "    }\n",
    "    model = XGBRegressor(**param)  \n",
    "    \n",
    "    model.fit(X_train, y_train, eval_set=[(X_test, y_test)], early_stopping_rounds=100, verbose=False)\n",
    "    preds_valid = model.predict(X_test)\n",
    "    rmse = mean_squared_error(y_test, preds_valid, squared=False)\n",
    "    return rmse\n",
    "\n",
    "    \n",
    "study = optuna.create_study(direction=\"minimize\")\n",
    "study.optimize(objective, n_trials=50)\n",
    "\n",
    "study.best_params\n",
    "\n",
    "'''\n",
    "#taking best params\n",
    "best_params = {'lambda': 3.559040735218393,\n",
    " 'alpha': 0.25772549522868987,\n",
    " 'colsample_bytree': 0.6,\n",
    " 'subsample': 0.5,\n",
    " 'learning_rate': 0.014,\n",
    " 'n_estimators': 4000,\n",
    " 'max_depth': 11,\n",
    " 'random_state': 24,\n",
    " 'min_child_weight': 3}\n"
   ]
  },
  {
   "cell_type": "code",
   "execution_count": 12,
   "metadata": {},
   "outputs": [],
   "source": [
    "\n",
    "#making dictionary of models\n",
    "models = {\n",
    "    'SVR':SVR(),\n",
    "    'XGBRegressor':XGBRegressor(),\n",
    "    'XGBR':XGBRegressor(**best_params),\n",
    "    'Ridge':Ridge(),\n",
    "    'ElasticNet':ElasticNet(),\n",
    "    'SGDRegressor':SGDRegressor(),\n",
    "    'BayesianRidge':BayesianRidge(),\n",
    "    'LinearRegression':LinearRegression(),\n",
    "    'RandomForestRegressor':RandomForestRegressor(),\n",
    "    'GradientBoosting': GradientBoostingRegressor()\n",
    "}"
   ]
  },
  {
   "cell_type": "code",
   "execution_count": null,
   "metadata": {},
   "outputs": [],
   "source": [
    "#taking results from the models\n",
    "results = []\n",
    "\n",
    "for name, model in models.items():\n",
    "    model.fit(X_train, y_train)\n",
    "    y_pred = model.predict(X_test)\n",
    "    mse = mean_squared_error(y_test, y_pred)\n",
    "    rmse = mse**0.5\n",
    "    r2 = r2_score(y_test, y_pred)\n",
    "    results.append([name, r2, mse, rmse])\n",
    "\n",
    "results_df = pd.DataFrame(results, columns=['Model', 'R-squared', 'MSE', 'RMSE'])\n",
    "results_df = results_df.sort_values(by='R-squared', ascending=False).reset_index(drop=True)\n",
    "print(results_df)"
   ]
  },
  {
   "cell_type": "markdown",
   "metadata": {},
   "source": [
    "from this, we can conclusively say that the most accurate model in this case would be BayesianRidge, with highest r-squared and lowest MSE/RMSE"
   ]
  },
  {
   "cell_type": "markdown",
   "metadata": {},
   "source": [
    "Credit: \n",
    "https://www.kaggle.com/code/heyrobin/house-price-prediction-beginner-s-notebook\n"
   ]
  }
 ],
 "metadata": {
  "kernelspec": {
   "display_name": "Python 3",
   "language": "python",
   "name": "python3"
  },
  "language_info": {
   "codemirror_mode": {
    "name": "ipython",
    "version": 3
   },
   "file_extension": ".py",
   "mimetype": "text/x-python",
   "name": "python",
   "nbconvert_exporter": "python",
   "pygments_lexer": "ipython3",
   "version": "3.12.8"
  }
 },
 "nbformat": 4,
 "nbformat_minor": 2
}
